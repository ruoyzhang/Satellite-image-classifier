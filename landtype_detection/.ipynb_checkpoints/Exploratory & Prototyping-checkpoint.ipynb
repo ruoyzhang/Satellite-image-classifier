{
 "cells": [
  {
   "cell_type": "markdown",
   "metadata": {},
   "source": [
    "We have 6 classes in this classification task:\n",
    "    1. barren_land (73396)\n",
    "    2. building (14922)\n",
    "    3. grassland (50346)\n",
    "    4. road (8191)\n",
    "    5. trees (56808)\n",
    "    6. water (120331)\n",
    "\n",
    "As indicated above, they are hugely inbalanced\n",
    "\n",
    "It's highly likely that a CNN with a classifier at the end will over predict water and under predict road\n",
    "Since we don't know the natural distribution of these images, we will attempt to balance these images out\n",
    "\n",
    "How:\n",
    "    1. Augmentation\n",
    "    2. Subsampling\n",
    "    3. ???\n",
    "    \n",
    "\n",
    "May not be the best practice will need to look up subsampling methods"
   ]
  },
  {
   "cell_type": "code",
   "execution_count": 2,
   "metadata": {},
   "outputs": [],
   "source": [
    "count_by_cat = {'barren_land' :73396, 'building':14922, 'grassland':50346, 'road':8191, 'trees':56808, 'water':120331}"
   ]
  },
  {
   "cell_type": "code",
   "execution_count": 8,
   "metadata": {},
   "outputs": [],
   "source": [
    "count_by_cat_perc = {k: v/sum(count_by_cat.values()) for k,v in count_by_cat.items()}"
   ]
  },
  {
   "cell_type": "code",
   "execution_count": 9,
   "metadata": {},
   "outputs": [
    {
     "data": {
      "text/plain": [
       "{'barren_land': 0.22653505929122145,\n",
       " 'building': 0.04605640845200837,\n",
       " 'grassland': 0.1553917665141947,\n",
       " 'road': 0.025281332370352537,\n",
       " 'trees': 0.17533658030704272,\n",
       " 'water': 0.3713988530651802}"
      ]
     },
     "execution_count": 9,
     "metadata": {},
     "output_type": "execute_result"
    }
   ],
   "source": [
    "count_by_cat_perc"
   ]
  },
  {
   "cell_type": "code",
   "execution_count": null,
   "metadata": {},
   "outputs": [],
   "source": []
  }
 ],
 "metadata": {
  "kernelspec": {
   "display_name": "Python 3",
   "language": "python",
   "name": "python3"
  },
  "language_info": {
   "codemirror_mode": {
    "name": "ipython",
    "version": 3
   },
   "file_extension": ".py",
   "mimetype": "text/x-python",
   "name": "python",
   "nbconvert_exporter": "python",
   "pygments_lexer": "ipython3",
   "version": "3.6.4"
  }
 },
 "nbformat": 4,
 "nbformat_minor": 2
}
