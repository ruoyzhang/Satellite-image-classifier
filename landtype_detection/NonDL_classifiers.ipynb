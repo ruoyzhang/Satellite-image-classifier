{
 "cells": [
  {
   "cell_type": "code",
   "execution_count": 7,
   "metadata": {},
   "outputs": [],
   "source": [
    "import cv2\n",
    "import os\n",
    "from custom_dset_new import train_val_test_split"
   ]
  },
  {
   "cell_type": "code",
   "execution_count": 9,
   "metadata": {},
   "outputs": [],
   "source": [
    "data_dir = '/Users/ruoyangzhang/Documents/PythonWorkingDirectory/Assignment_data/images'"
   ]
  },
  {
   "cell_type": "code",
   "execution_count": 10,
   "metadata": {},
   "outputs": [],
   "source": [
    "train_data, val_data, test_data = train_val_test_split(data_dir, train_split=0.8, val_split=0.2, test_split = 0)"
   ]
  },
  {
   "cell_type": "code",
   "execution_count": 17,
   "metadata": {},
   "outputs": [],
   "source": [
    "img = cv2.imread(list(train_data.keys())[0])\n",
    "b, g, r = cv2.split(img)\n",
    "rgb_img = cv2.merge([r, g, b])"
   ]
  },
  {
   "cell_type": "code",
   "execution_count": 20,
   "metadata": {},
   "outputs": [
    {
     "data": {
      "text/plain": [
       "(28, 28, 3)"
      ]
     },
     "execution_count": 20,
     "metadata": {},
     "output_type": "execute_result"
    }
   ],
   "source": [
    "rgb_img.shape"
   ]
  },
  {
   "cell_type": "code",
   "execution_count": 22,
   "metadata": {},
   "outputs": [
    {
     "data": {
      "text/plain": [
       "array([[ 37,  47,  94],\n",
       "       [ 50,  78, 106],\n",
       "       [ 56,  78, 109],\n",
       "       [ 40,  43,  98],\n",
       "       [ 60,  83,  90],\n",
       "       [ 58,  59,  91],\n",
       "       [ 48,  59,  94],\n",
       "       [ 81,  85,  97],\n",
       "       [104,  98,  98],\n",
       "       [ 95,  94,  94],\n",
       "       [ 61,  76,  96],\n",
       "       [ 65,  95,  87],\n",
       "       [ 63,  84,  97],\n",
       "       [ 35,  51,  93],\n",
       "       [ 25,  36,  86],\n",
       "       [ 29,  35,  91],\n",
       "       [ 75,  82, 102],\n",
       "       [107, 127, 113],\n",
       "       [ 85, 101, 112],\n",
       "       [ 54,  57,  99],\n",
       "       [ 55,  70,  97],\n",
       "       [ 65,  88,  97],\n",
       "       [ 61,  80,  97],\n",
       "       [ 52,  60,  87],\n",
       "       [ 50,  60,  85],\n",
       "       [ 37,  56,  84],\n",
       "       [ 25,  47,  85],\n",
       "       [ 22,  34,  82]], dtype=uint8)"
      ]
     },
     "execution_count": 22,
     "metadata": {},
     "output_type": "execute_result"
    }
   ],
   "source": [
    "rgb_img[0]"
   ]
  },
  {
   "cell_type": "code",
   "execution_count": null,
   "metadata": {},
   "outputs": [],
   "source": []
  }
 ],
 "metadata": {
  "kernelspec": {
   "display_name": "Python 3",
   "language": "python",
   "name": "python3"
  },
  "language_info": {
   "codemirror_mode": {
    "name": "ipython",
    "version": 3
   },
   "file_extension": ".py",
   "mimetype": "text/x-python",
   "name": "python",
   "nbconvert_exporter": "python",
   "pygments_lexer": "ipython3",
   "version": "3.6.4"
  }
 },
 "nbformat": 4,
 "nbformat_minor": 2
}
