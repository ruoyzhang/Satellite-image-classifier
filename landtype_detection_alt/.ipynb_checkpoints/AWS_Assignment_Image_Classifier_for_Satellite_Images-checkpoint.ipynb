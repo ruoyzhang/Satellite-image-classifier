{
 "cells": [
  {
   "cell_type": "markdown",
   "metadata": {},
   "source": [
    "# Image Classifier for Satellite Images Using Non Deep Learning and Deep Learning Methods\n",
    "\n",
    "__Author__: Ruoyang ZHANG\n",
    "\n",
    "\n",
    "This notebook demonstrates how we construct an image classifier using non deep learning methods.\n",
    "\n",
    "More specifically, it will cover the following topics in order:\n",
    "\n",
    "## Agenda \n",
    "####    1. Data Preparation: converting image data into vector form\n",
    "####    2. Vanilla Random Forest as a benchmark\n",
    "####    3. Data Augmentation to deal with class inbalance\n",
    "####    4. Random Forest with augmented data\n",
    "            4.1 Strategy 1\n",
    "            4.2 Strategy 2\n",
    "            4.3 Strategy 3\n",
    "            4.4 Discussion\n",
    "####    5. Performance comparison with CNN using pretrained InceptionV3\n",
    "####    6. Conclusions\n",
    "####    7. Appendix - all functions and classes contained in seperate .py files\n",
    "            7.1 image_augmentation.py (Random Forest)\n",
    "            7.2 custom_dset_new_alt.py (Random Forest & CNN)\n",
    "            7.3 pretrained_inceptionv3_alt.py (CNN)\n",
    "            7.4 train_alt.py (CNN)\n",
    "            7.5 test_alt.py (CNN)\n",
    "            7.6 execute_training_alt.py (CNN)"
   ]
  },
  {
   "cell_type": "markdown",
   "metadata": {},
   "source": [
    "--------------------------------------------------"
   ]
  },
  {
   "cell_type": "markdown",
   "metadata": {},
   "source": [
    "## 1. Data Preparation: converting image data into vector form"
   ]
  },
  {
   "cell_type": "markdown",
   "metadata": {},
   "source": [
    "1. We conver the image files into single dimension vectors of 28 * 28 * 3 dimensions\n",
    "2. We will also convert the image classes into integers using the following scheme:\n",
    "\n",
    "    {'water':0, 'trees':1, 'road':2, 'barren_land': 3, 'building': 4, 'grassland':5}"
   ]
  },
  {
   "cell_type": "code",
   "execution_count": 1,
   "metadata": {},
   "outputs": [],
   "source": [
    "import cv2\n",
    "import os\n",
    "from custom_dset_new import train_val_test_split\n",
    "import numpy as np\n",
    "from tqdm import tqdm"
   ]
  },
  {
   "cell_type": "code",
   "execution_count": null,
   "metadata": {},
   "outputs": [],
   "source": [
    "# set the directory to the image data\n",
    "data_dir = '/Users/ruoyangzhang/Documents/PythonWorkingDirectory/Assignment_data/images'"
   ]
  },
  {
   "cell_type": "code",
   "execution_count": 3,
   "metadata": {},
   "outputs": [],
   "source": [
    "# split the dataset into train and test\n",
    "# we use the function that we created for the Convolution Neural Net\n",
    "# Since there is barely any hyper parameters for with the Random Forest Algorithm, we set val_proportion = 0\n",
    "train_data, val_data, test_data = train_val_test_split(data_dir, train_split=0.8, val_split=0.0, test_split = 0.2)"
   ]
  },
  {
   "cell_type": "code",
   "execution_count": 4,
   "metadata": {},
   "outputs": [],
   "source": [
    "# additional step to remove unwanted sys files \n",
    "ordered_train_dirs = [dir for dir in sorted(list(train_data.keys())) if os.path.split(dir)[-1] != '.DS_Store']"
   ]
  },
  {
   "cell_type": "code",
   "execution_count": 5,
   "metadata": {},
   "outputs": [],
   "source": [
    "# function to convert the images to a vector\n",
    "def convert_to_vector(img_dir):\n",
    "    img = cv2.imread(img_dir)\n",
    "    b, g, r = cv2.split(img)\n",
    "    rgb_img = cv2.merge([r, g, b])\n",
    "    rgb_img.shape = (1, 28*28*3)\n",
    "    return(rgb_img)"
   ]
  },
  {
   "cell_type": "code",
   "execution_count": 6,
   "metadata": {
    "scrolled": true
   },
   "outputs": [
    {
     "name": "stderr",
     "output_type": "stream",
     "text": [
      "100%|██████████| 259200/259200 [02:10<00:00, 1982.67it/s]\n"
     ]
    }
   ],
   "source": [
    "# convert training images to input data\n",
    "input_images = np.array([convert_to_vector(dir) for dir in tqdm(ordered_train_dirs)])"
   ]
  },
  {
   "cell_type": "code",
   "execution_count": 7,
   "metadata": {},
   "outputs": [],
   "source": [
    "# reshape training input data\n",
    "input_images.shape = (input_images.shape[0], input_images.shape[2])"
   ]
  },
  {
   "cell_type": "code",
   "execution_count": 31,
   "metadata": {},
   "outputs": [],
   "source": [
    "# construct training input labels\n",
    "train_labels = np.array([train_data[dir] for dir in ordered_train_dirs])"
   ]
  },
  {
   "cell_type": "markdown",
   "metadata": {},
   "source": [
    "Now we make test data into np.arrays"
   ]
  },
  {
   "cell_type": "code",
   "execution_count": 9,
   "metadata": {},
   "outputs": [],
   "source": [
    "# additional step to remove unwanted sys files \n",
    "ordered_test_dirs = [testdir for testdir in sorted(list(test_data.keys())) if os.path.split(testdir)[-1] != '.DS_Store']"
   ]
  },
  {
   "cell_type": "code",
   "execution_count": 10,
   "metadata": {
    "scrolled": true
   },
   "outputs": [
    {
     "name": "stderr",
     "output_type": "stream",
     "text": [
      "100%|██████████| 64800/64800 [00:36<00:00, 1792.34it/s]\n"
     ]
    }
   ],
   "source": [
    "# convert testing images to input data\n",
    "test_images = np.array([convert_to_vector(dir) for dir in tqdm(ordered_test_dirs)])"
   ]
  },
  {
   "cell_type": "code",
   "execution_count": 11,
   "metadata": {},
   "outputs": [],
   "source": [
    "# reshape test input data\n",
    "test_images.shape = (test_images.shape[0], test_images.shape[2])"
   ]
  },
  {
   "cell_type": "code",
   "execution_count": 29,
   "metadata": {},
   "outputs": [],
   "source": [
    "# construct test input labels\n",
    "test_labels = np.array([test_data[testdir] for testdir in ordered_test_dirs])"
   ]
  },
  {
   "cell_type": "markdown",
   "metadata": {},
   "source": [
    "## 2. Vanilla Random Forest as a benchmark"
   ]
  },
  {
   "cell_type": "markdown",
   "metadata": {},
   "source": [
    "We opt to use the Random Forest algorithm for the particular mission for the following reasons:\n",
    "\n",
    "    1. Its robust performance\n",
    "    \n",
    "    2. Its lack of hyper parameter tuning, this is vital since the image dataset is large (> 300k images), the training time can be significant and hyperparameter tuning should be minimised given the time constraints\n",
    "    \n",
    "    3. It's quick to train\n",
    "    \n",
    "    4. Excellent free open source implementation (Sklearn)\n",
    "    \n",
    "    5. Simplicity\n",
    "    \n",
    "We note also the disadvantage of the Random Forest algorithm:\n",
    "\n",
    "    1. Its model size can easily get quite large and evaluation can be relatively slow\n",
    "    \n",
    "    2. The lack of interpretability. While decision trees are easy to interpret, a forest is not so much. Random Forest is regarded by some as a blackbox due to the weighting mechanism behind its decisions"
   ]
  },
  {
   "cell_type": "code",
   "execution_count": 13,
   "metadata": {},
   "outputs": [],
   "source": [
    "from sklearn.ensemble import RandomForestClassifier\n",
    "from sklearn.datasets import make_classification\n",
    "from sklearn import metrics\n",
    "from collections import Counter"
   ]
  },
  {
   "cell_type": "code",
   "execution_count": 14,
   "metadata": {},
   "outputs": [],
   "source": [
    "# instantiate the classifier\n",
    "clf = RandomForestClassifier(n_estimators=100, n_jobs = 5)"
   ]
  },
  {
   "cell_type": "code",
   "execution_count": 15,
   "metadata": {},
   "outputs": [
    {
     "data": {
      "text/plain": [
       "RandomForestClassifier(bootstrap=True, class_weight=None, criterion='gini',\n",
       "            max_depth=None, max_features='auto', max_leaf_nodes=None,\n",
       "            min_impurity_decrease=0.0, min_impurity_split=None,\n",
       "            min_samples_leaf=1, min_samples_split=2,\n",
       "            min_weight_fraction_leaf=0.0, n_estimators=100, n_jobs=5,\n",
       "            oob_score=False, random_state=None, verbose=0,\n",
       "            warm_start=False)"
      ]
     },
     "execution_count": 15,
     "metadata": {},
     "output_type": "execute_result"
    }
   ],
   "source": [
    "# fit the model to the data\n",
    "clf.fit(input_images,train_labels)"
   ]
  },
  {
   "cell_type": "code",
   "execution_count": 16,
   "metadata": {},
   "outputs": [],
   "source": [
    "# make predictions\n",
    "preds = clf.predict(test_images)"
   ]
  },
  {
   "cell_type": "code",
   "execution_count": 17,
   "metadata": {},
   "outputs": [
    {
     "name": "stdout",
     "output_type": "stream",
     "text": [
      "Accuracy: 0.966358024691358\n"
     ]
    }
   ],
   "source": [
    "# evaluate the accuracy\n",
    "print(\"Accuracy:\",metrics.accuracy_score(test_labels, preds))"
   ]
  },
  {
   "cell_type": "code",
   "execution_count": 18,
   "metadata": {},
   "outputs": [
    {
     "data": {
      "text/plain": [
       "array([[24137,     0,     0,     0,     0,     0],\n",
       "       [   10, 11285,     0,     5,     0,    62],\n",
       "       [   83,    30,  1282,    26,   134,    44],\n",
       "       [    1,    44,     0, 14050,    31,   480],\n",
       "       [   18,     0,    39,     2,  2943,     0],\n",
       "       [   35,   650,     3,   483,     0,  8923]])"
      ]
     },
     "execution_count": 18,
     "metadata": {},
     "output_type": "execute_result"
    }
   ],
   "source": [
    "# the confusion matrix\n",
    "metrics.confusion_matrix(test_labels, preds)"
   ]
  },
  {
   "cell_type": "code",
   "execution_count": 19,
   "metadata": {},
   "outputs": [
    {
     "name": "stdout",
     "output_type": "stream",
     "text": [
      "balance  , water: 0.3725, trees: 0.1753, road: 0.0247, barren_land: 0.2254, building: 0.0463, grassland: 0.1558\n",
      "---------------\n",
      "precision, water: 0.9939, trees: 0.9397, road: 0.9683, barren_land: 0.9646, building: 0.9469, grassland: 0.9384\n",
      "---------------\n",
      "recall   , water: 1.0000, trees: 0.9932, road: 0.8018, barren_land: 0.9619, building: 0.9803, grassland: 0.8840\n",
      "---------------\n",
      "fscore   , water: 0.9970, trees: 0.9657, road: 0.8772, barren_land: 0.9633, building: 0.9633, grassland: 0.9104\n",
      "---------------\n"
     ]
    }
   ],
   "source": [
    "# its precision, recall and fscore in relation to the proportion of each class in the training data\n",
    "\n",
    "bookmark = {0: 'precision', 1: 'recall   ', 2: 'fscore   ', 3: 'support'}\n",
    "class_dict = {0: 'water', 1: 'trees', 2: 'road', 3: 'barren_land', 4: 'building', 5: 'grassland'}\n",
    "train_class_count = Counter(test_data.values())\n",
    "train_class_balance = {k:round(v/sum(train_class_count.values()),4) for k,v in train_class_count.items()}\n",
    "\n",
    "print('{}, {}: {:.4f}, {}: {:.4f}, {}: {:.4f}, {}: {:.4f}, {}: {:.4f}, {}: {:.4f}'\\\n",
    "              .format('balance  ',\n",
    "                      class_dict[0], train_class_balance[0],\n",
    "                      class_dict[1], train_class_balance[1],\n",
    "                      class_dict[2], train_class_balance[2],\n",
    "                      class_dict[3], train_class_balance[3],\n",
    "                      class_dict[4], train_class_balance[4],\n",
    "                      class_dict[5], train_class_balance[5]))\n",
    "\n",
    "print('---------------')\n",
    "\n",
    "for i, scores in enumerate(metrics.precision_recall_fscore_support(test_labels, preds)):\n",
    "    if i < 3:\n",
    "        print('{}, {}: {:.4f}, {}: {:.4f}, {}: {:.4f}, {}: {:.4f}, {}: {:.4f}, {}: {:.4f}'\\\n",
    "              .format(bookmark[i],\n",
    "                      class_dict[0], scores[0],\n",
    "                      class_dict[1], scores[1],\n",
    "                      class_dict[2], scores[2],\n",
    "                      class_dict[3], scores[3],\n",
    "                      class_dict[4], scores[4],\n",
    "                      class_dict[5], scores[5]))\n",
    "        print('---------------')"
   ]
  },
  {
   "cell_type": "markdown",
   "metadata": {},
   "source": [
    "As we can tell, we have some evidence to suspect that the class inbalance is costing us performance. We note the following observations:\n",
    "\n",
    "    1. the class 'road' is grossly underrepresented in the training set, potentially leading to a low recall score and low overal performance (fscore: 0.8772)\n",
    "    \n",
    "    2. curiously, the class 'building', despite being underrepresented in the training set, obtained an acceptable prediction performance, possibly due to its visual distinctiveness\n",
    "    \n",
    "    3. on the contrary, the class 'grassland', despite having a relatively fair representation (15.58%), its recall score is below overal performance (fscore: 0.9104), leading us to believe that the class is harder to distinguish from other classes, especially from 'trees' and 'barren_land'"
   ]
  },
  {
   "cell_type": "markdown",
   "metadata": {},
   "source": [
    "### Going forward:\n",
    "\n",
    "The vanilla Random Forest's performance reached a respectable 96.5% accuracy with not excellent but acceptable class-wise performance, notably with minimum engineering. \n",
    "\n",
    "Going forward, we keep its performance as our baseline benchmark.\n",
    "\n",
    "We aim to improve the prediction performance of the model by artifitially balancing out the classes a bit by data augmentation of the 2 worst performing classes:\n",
    "\n",
    "    1. road: 2\n",
    "    2. grassland: 5"
   ]
  },
  {
   "cell_type": "markdown",
   "metadata": {},
   "source": [
    "## 3. Data Augmentation to deal with class inbalance"
   ]
  },
  {
   "cell_type": "markdown",
   "metadata": {},
   "source": [
    "We have written data augmentation functions (image_augmentation.py) which provides the following image transformations:\n",
    "\n",
    "    1. random rotation between -25 and 25 degrees\n",
    "    2. random rotation between 26 and 75 degrees\n",
    "    3. random rotation either -90 or 90 degrees\n",
    "    4. adding random noise to the data\n",
    "    5. horizontal flip\n",
    "    6. vertical flip\n",
    "    7. transpose\n",
    "    8. zoom (maximum 1.4x)\n",
    "    \n",
    "With the 8 options, we can increase the representation of a particular class by 8 fold maximum without going into composite transformations\n",
    "    \n",
    "We will try 3 strategies in order to evaluate which data augmentation gives us the most desired result:\n",
    "\n",
    "    1. strategy 1\n",
    "        a. to increase 2 fold the volume of the class 'road'\n",
    "        b. to increase 2 fold the volume of the class 'grassland'\n",
    "    2. Strategy 2\n",
    "        a. to increase 4 fold the volume of the class 'road'\n",
    "        b. to increase 2 fold the volume of the class 'grassland'\n",
    "    3. Strategy 3\n",
    "        a. to increase 3 fold the volume of the class 'road'\n",
    "        b. to increase 2 fold the volume of the class 'grassland'"
   ]
  },
  {
   "cell_type": "markdown",
   "metadata": {},
   "source": [
    "### Strategy 1"
   ]
  },
  {
   "cell_type": "code",
   "execution_count": 108,
   "metadata": {},
   "outputs": [],
   "source": [
    "from image_augmentation import *\n",
    "\n",
    "# set fold variables for the 2 classes\n",
    "class_2_fold = 2\n",
    "class_5_fold = 2"
   ]
  },
  {
   "cell_type": "markdown",
   "metadata": {},
   "source": [
    "We first prep the augmented training data and the respective labels for class 2 and 5"
   ]
  },
  {
   "cell_type": "code",
   "execution_count": 109,
   "metadata": {},
   "outputs": [],
   "source": [
    "# we first extract the image_dirs for class 2 & 5\n",
    "class_2_dirs = [ordered_train_dirs[i] for i, cls in enumerate(train_labels) if cls == 2]\n",
    "class_2_labels = np.array([2] * len(class_2_dirs) * class_2_fold)\n",
    "class_5_dirs = [ordered_train_dirs[i] for i, cls in enumerate(train_labels) if cls == 5]\n",
    "class_5_labels = np.array([5] * len(class_5_dirs) * class_5_fold)"
   ]
  },
  {
   "cell_type": "code",
   "execution_count": 110,
   "metadata": {},
   "outputs": [
    {
     "name": "stderr",
     "output_type": "stream",
     "text": [
      "  2%|▏         | 146/6593 [00:00<00:08, 723.97it/s]"
     ]
    },
    {
     "name": "stdout",
     "output_type": "stream",
     "text": [
      "the functions to be used for augmentation are: \n",
      "1 random_rotation_75\n",
      "2 random_rotation_90\n"
     ]
    },
    {
     "name": "stderr",
     "output_type": "stream",
     "text": [
      "100%|██████████| 6593/6593 [00:08<00:00, 807.71it/s]\n"
     ]
    }
   ],
   "source": [
    "# we then augment the data for class 2\n",
    "augmented_class_2 = image_augmentation(class_2_dirs, class_2_fold)"
   ]
  },
  {
   "cell_type": "code",
   "execution_count": 111,
   "metadata": {},
   "outputs": [
    {
     "name": "stderr",
     "output_type": "stream",
     "text": [
      "  0%|          | 195/40253 [00:00<00:41, 970.79it/s]"
     ]
    },
    {
     "name": "stdout",
     "output_type": "stream",
     "text": [
      "the functions to be used for augmentation are: \n",
      "1 random_rotation_75\n",
      "2 horizontal_flip\n"
     ]
    },
    {
     "name": "stderr",
     "output_type": "stream",
     "text": [
      "100%|██████████| 40253/40253 [00:39<00:00, 1024.45it/s]\n"
     ]
    }
   ],
   "source": [
    "# we then augment the data for class 5\n",
    "augmented_class_5 = image_augmentation(class_5_dirs, class_5_fold)"
   ]
  },
  {
   "cell_type": "code",
   "execution_count": 112,
   "metadata": {},
   "outputs": [],
   "source": [
    "# new input data and labels\n",
    "input_images_aug = np.concatenate((input_images,augmented_class_2,augmented_class_5), axis = 0)\n",
    "train_labels_aug = np.concatenate((train_labels, class_2_labels, class_5_labels))"
   ]
  },
  {
   "cell_type": "markdown",
   "metadata": {},
   "source": [
    "### Strategy 2"
   ]
  },
  {
   "cell_type": "code",
   "execution_count": 120,
   "metadata": {},
   "outputs": [],
   "source": [
    "# set fold variables for the 2 classes\n",
    "class_2_fold_2 = 4\n",
    "class_5_fold_2 = 2"
   ]
  },
  {
   "cell_type": "code",
   "execution_count": 121,
   "metadata": {},
   "outputs": [],
   "source": [
    "# we make the labels for the augmented data for class 2\n",
    "class_2_labels_2 = np.array([2] * len(class_2_dirs) * class_2_fold_2)"
   ]
  },
  {
   "cell_type": "code",
   "execution_count": 123,
   "metadata": {},
   "outputs": [
    {
     "name": "stderr",
     "output_type": "stream",
     "text": [
      "  0%|          | 0/6593 [00:00<?, ?it/s]/Users/ruoyangzhang/anaconda3/lib/python3.6/site-packages/skimage/transform/_warps.py:84: UserWarning: The default mode, 'constant', will be changed to 'reflect' in skimage 0.15.\n",
      "  warn(\"The default mode, 'constant', will be changed to 'reflect' in \"\n",
      "  2%|▏         | 145/6593 [00:00<00:08, 721.27it/s]"
     ]
    },
    {
     "name": "stdout",
     "output_type": "stream",
     "text": [
      "the functions to be used for augmentation are: \n",
      "1 vertical_flip\n",
      "2 horizontal_flip\n",
      "3 random_rotation_90\n",
      "4 zoom\n"
     ]
    },
    {
     "name": "stderr",
     "output_type": "stream",
     "text": [
      "100%|██████████| 6593/6593 [00:09<00:00, 694.62it/s]\n"
     ]
    }
   ],
   "source": [
    "# we then augment the data for class 2\n",
    "augmented_class_2_2 = image_augmentation(class_2_dirs, class_2_fold_2)"
   ]
  },
  {
   "cell_type": "code",
   "execution_count": 126,
   "metadata": {},
   "outputs": [],
   "source": [
    "# new input data and labels\n",
    "input_images_aug_2 = np.concatenate((input_images,augmented_class_2_2,augmented_class_5), axis = 0)\n",
    "train_labels_aug_2 = np.concatenate((train_labels, class_2_labels_2, class_5_labels))"
   ]
  },
  {
   "cell_type": "markdown",
   "metadata": {},
   "source": [
    "### Strategy 3"
   ]
  },
  {
   "cell_type": "code",
   "execution_count": 144,
   "metadata": {},
   "outputs": [],
   "source": [
    "# set fold variables for the 2 classes\n",
    "class_2_fold_3 = 3\n",
    "class_5_fold_3 = 2"
   ]
  },
  {
   "cell_type": "code",
   "execution_count": 145,
   "metadata": {},
   "outputs": [],
   "source": [
    "# we make the labels for the augmented data for class 2\n",
    "class_2_labels_3 = np.array([2] * len(class_2_dirs) * class_2_fold_3)"
   ]
  },
  {
   "cell_type": "code",
   "execution_count": 146,
   "metadata": {},
   "outputs": [
    {
     "name": "stderr",
     "output_type": "stream",
     "text": [
      "  1%|          | 40/6593 [00:00<00:16, 399.73it/s]"
     ]
    },
    {
     "name": "stdout",
     "output_type": "stream",
     "text": [
      "the functions to be used for augmentation are: \n",
      "1 random_rotation_90\n",
      "2 random_rotation_75\n",
      "3 horizontal_flip\n"
     ]
    },
    {
     "name": "stderr",
     "output_type": "stream",
     "text": [
      "100%|██████████| 6593/6593 [00:08<00:00, 800.33it/s]\n"
     ]
    }
   ],
   "source": [
    "# we then augment the data for class 2\n",
    "augmented_class_2_3 = image_augmentation(class_2_dirs, class_2_fold_3)"
   ]
  },
  {
   "cell_type": "code",
   "execution_count": 149,
   "metadata": {},
   "outputs": [],
   "source": [
    "# new input data and labels\n",
    "input_images_aug_3 = np.concatenate((input_images,augmented_class_2_3,augmented_class_5), axis = 0)\n",
    "train_labels_aug_3 = np.concatenate((train_labels, class_2_labels_3, class_5_labels))"
   ]
  },
  {
   "cell_type": "markdown",
   "metadata": {},
   "source": [
    "##  4. Random Forest with augmented data"
   ]
  },
  {
   "cell_type": "markdown",
   "metadata": {},
   "source": [
    "### 4.1 Strategy 1"
   ]
  },
  {
   "cell_type": "code",
   "execution_count": 113,
   "metadata": {},
   "outputs": [],
   "source": [
    "# instantiate the classifier\n",
    "clf_aug = RandomForestClassifier(n_estimators=100, n_jobs = 5)"
   ]
  },
  {
   "cell_type": "code",
   "execution_count": 129,
   "metadata": {},
   "outputs": [
    {
     "data": {
      "text/plain": [
       "RandomForestClassifier(bootstrap=True, class_weight=None, criterion='gini',\n",
       "            max_depth=None, max_features='auto', max_leaf_nodes=None,\n",
       "            min_impurity_decrease=0.0, min_impurity_split=None,\n",
       "            min_samples_leaf=1, min_samples_split=2,\n",
       "            min_weight_fraction_leaf=0.0, n_estimators=100, n_jobs=5,\n",
       "            oob_score=False, random_state=None, verbose=0,\n",
       "            warm_start=False)"
      ]
     },
     "execution_count": 129,
     "metadata": {},
     "output_type": "execute_result"
    }
   ],
   "source": [
    "# fit the model to the data\n",
    "clf_aug.fit(input_images_aug,train_labels_aug)"
   ]
  },
  {
   "cell_type": "code",
   "execution_count": 130,
   "metadata": {},
   "outputs": [],
   "source": [
    "# make predictions\n",
    "preds_new = clf_aug.predict(test_images)"
   ]
  },
  {
   "cell_type": "code",
   "execution_count": 131,
   "metadata": {},
   "outputs": [
    {
     "name": "stdout",
     "output_type": "stream",
     "text": [
      "Accuracy: 0.9700308641975308\n"
     ]
    }
   ],
   "source": [
    "# evaluate the accuracy\n",
    "print(\"Accuracy:\",metrics.accuracy_score(test_labels, preds_new))"
   ]
  },
  {
   "cell_type": "code",
   "execution_count": 132,
   "metadata": {},
   "outputs": [
    {
     "data": {
      "text/plain": [
       "array([[24137,     0,     0,     0,     0,     0],\n",
       "       [   10, 11285,     0,     5,     0,    62],\n",
       "       [   83,    30,  1282,    26,   134,    44],\n",
       "       [    1,    44,     0, 14050,    31,   480],\n",
       "       [   18,     0,    39,     2,  2943,     0],\n",
       "       [   35,   650,     3,   483,     0,  8923]])"
      ]
     },
     "execution_count": 132,
     "metadata": {},
     "output_type": "execute_result"
    }
   ],
   "source": [
    "# the confusion matrix\n",
    "metrics.confusion_matrix(test_labels, preds_new)"
   ]
  },
  {
   "cell_type": "code",
   "execution_count": 136,
   "metadata": {},
   "outputs": [
    {
     "name": "stdout",
     "output_type": "stream",
     "text": [
      "balance  , water: 0.2726, trees: 0.1288, road: 0.0560, barren_land: 0.1666, building: 0.0338, grassland: 0.3422\n",
      "---------------\n",
      "precision, water: 0.9946, trees: 0.9669, road: 0.9709, barren_land: 0.9823, building: 0.9463, grassland: 0.9072\n",
      "---------------\n",
      "recall   , water: 1.0000, trees: 0.9843, road: 0.7724, barren_land: 0.9460, building: 0.9800, grassland: 0.9453\n",
      "---------------\n",
      "fscore   , water: 0.9973, trees: 0.9755, road: 0.8603, barren_land: 0.9638, building: 0.9629, grassland: 0.9259\n",
      "---------------\n"
     ]
    }
   ],
   "source": [
    "# its precision, recall and fscore in relation to the proportion of each class in the training data\n",
    "\n",
    "bookmark = {0: 'precision', 1: 'recall   ', 2: 'fscore   ', 3: 'support'}\n",
    "class_dict = {0: 'water', 1: 'trees', 2: 'road', 3: 'barren_land', 4: 'building', 5: 'grassland'}\n",
    "train_class_count_aug = Counter(train_labels_aug)\n",
    "train_class_balance_aug = {k:round(v/sum(train_class_count_aug.values()),4) for k,v in train_class_count_aug.items()}\n",
    "\n",
    "print('{}, {}: {:.4f}, {}: {:.4f}, {}: {:.4f}, {}: {:.4f}, {}: {:.4f}, {}: {:.4f}'\\\n",
    "              .format('balance  ',\n",
    "                      class_dict[0], train_class_balance_aug[0],\n",
    "                      class_dict[1], train_class_balance_aug[1],\n",
    "                      class_dict[2], train_class_balance_aug[2],\n",
    "                      class_dict[3], train_class_balance_aug[3],\n",
    "                      class_dict[4], train_class_balance_aug[4],\n",
    "                      class_dict[5], train_class_balance_aug[5]))\n",
    "\n",
    "print('---------------')\n",
    "\n",
    "for i, scores in enumerate(metrics.precision_recall_fscore_support(test_labels, preds_new)):\n",
    "    if i < 3:\n",
    "        print('{}, {}: {:.4f}, {}: {:.4f}, {}: {:.4f}, {}: {:.4f}, {}: {:.4f}, {}: {:.4f}'\\\n",
    "              .format(bookmark[i],\n",
    "                      class_dict[0], scores[0],\n",
    "                      class_dict[1], scores[1],\n",
    "                      class_dict[2], scores[2],\n",
    "                      class_dict[3], scores[3],\n",
    "                      class_dict[4], scores[4],\n",
    "                      class_dict[5], scores[5]))\n",
    "        print('---------------')"
   ]
  },
  {
   "cell_type": "markdown",
   "metadata": {},
   "source": [
    "### 4.2 Strategy 2"
   ]
  },
  {
   "cell_type": "code",
   "execution_count": 137,
   "metadata": {},
   "outputs": [],
   "source": [
    "# instantiate the classifier\n",
    "clf_aug_2 = RandomForestClassifier(n_estimators=100, n_jobs = 5)"
   ]
  },
  {
   "cell_type": "code",
   "execution_count": 139,
   "metadata": {},
   "outputs": [
    {
     "data": {
      "text/plain": [
       "RandomForestClassifier(bootstrap=True, class_weight=None, criterion='gini',\n",
       "            max_depth=None, max_features='auto', max_leaf_nodes=None,\n",
       "            min_impurity_decrease=0.0, min_impurity_split=None,\n",
       "            min_samples_leaf=1, min_samples_split=2,\n",
       "            min_weight_fraction_leaf=0.0, n_estimators=100, n_jobs=5,\n",
       "            oob_score=False, random_state=None, verbose=0,\n",
       "            warm_start=False)"
      ]
     },
     "execution_count": 139,
     "metadata": {},
     "output_type": "execute_result"
    }
   ],
   "source": [
    "# fit the model to the data\n",
    "clf_aug_2.fit(input_images_aug_2,train_labels_aug_2)"
   ]
  },
  {
   "cell_type": "code",
   "execution_count": 140,
   "metadata": {},
   "outputs": [],
   "source": [
    "# make predictions\n",
    "preds_new_2 = clf_aug_2.predict(test_images)"
   ]
  },
  {
   "cell_type": "code",
   "execution_count": 141,
   "metadata": {},
   "outputs": [
    {
     "name": "stdout",
     "output_type": "stream",
     "text": [
      "Accuracy: 0.9695370370370371\n"
     ]
    }
   ],
   "source": [
    "# evaluate the accuracy\n",
    "print(\"Accuracy:\",metrics.accuracy_score(test_labels, preds_new_2))"
   ]
  },
  {
   "cell_type": "code",
   "execution_count": 142,
   "metadata": {},
   "outputs": [
    {
     "data": {
      "text/plain": [
       "array([[24136,     0,     1,     0,     0,     0],\n",
       "       [   14, 11182,     1,     2,     0,   163],\n",
       "       [   42,    28,  1455,     8,    35,    31],\n",
       "       [    1,    40,    13, 13828,    23,   701],\n",
       "       [    5,     1,   291,     1,  2702,     2],\n",
       "       [   18,   326,     6,   221,     0,  9523]])"
      ]
     },
     "execution_count": 142,
     "metadata": {},
     "output_type": "execute_result"
    }
   ],
   "source": [
    "# the confusion matrix\n",
    "metrics.confusion_matrix(test_labels, preds_new_2)"
   ]
  },
  {
   "cell_type": "code",
   "execution_count": 143,
   "metadata": {},
   "outputs": [
    {
     "name": "stdout",
     "output_type": "stream",
     "text": [
      "balance  , water: 0.2628, trees: 0.1241, road: 0.0900, barren_land: 0.1606, building: 0.0326, grassland: 0.3299\n",
      "---------------\n",
      "precision, water: 0.9967, trees: 0.9659, road: 0.8234, barren_land: 0.9835, building: 0.9790, grassland: 0.9139\n",
      "---------------\n",
      "recall   , water: 1.0000, trees: 0.9842, road: 0.9099, barren_land: 0.9467, building: 0.9001, grassland: 0.9434\n",
      "---------------\n",
      "fscore   , water: 0.9983, trees: 0.9749, road: 0.8645, barren_land: 0.9648, building: 0.9379, grassland: 0.9284\n",
      "---------------\n"
     ]
    }
   ],
   "source": [
    "# its precision, recall and fscore in relation to the proportion of each class in the training data\n",
    "\n",
    "bookmark = {0: 'precision', 1: 'recall   ', 2: 'fscore   ', 3: 'support'}\n",
    "class_dict = {0: 'water', 1: 'trees', 2: 'road', 3: 'barren_land', 4: 'building', 5: 'grassland'}\n",
    "train_class_count_aug_2 = Counter(train_labels_aug_2)\n",
    "train_class_balance_aug_2 = {k:round(v/sum(train_class_count_aug_2.values()),4) for k,v in train_class_count_aug_2.items()}\n",
    "\n",
    "print('{}, {}: {:.4f}, {}: {:.4f}, {}: {:.4f}, {}: {:.4f}, {}: {:.4f}, {}: {:.4f}'\\\n",
    "              .format('balance  ',\n",
    "                      class_dict[0], train_class_balance_aug_2[0],\n",
    "                      class_dict[1], train_class_balance_aug_2[1],\n",
    "                      class_dict[2], train_class_balance_aug_2[2],\n",
    "                      class_dict[3], train_class_balance_aug_2[3],\n",
    "                      class_dict[4], train_class_balance_aug_2[4],\n",
    "                      class_dict[5], train_class_balance_aug_2[5]))\n",
    "\n",
    "print('---------------')\n",
    "\n",
    "for i, scores in enumerate(metrics.precision_recall_fscore_support(test_labels, preds_new_2)):\n",
    "    if i < 3:\n",
    "        print('{}, {}: {:.4f}, {}: {:.4f}, {}: {:.4f}, {}: {:.4f}, {}: {:.4f}, {}: {:.4f}'\\\n",
    "              .format(bookmark[i],\n",
    "                      class_dict[0], scores[0],\n",
    "                      class_dict[1], scores[1],\n",
    "                      class_dict[2], scores[2],\n",
    "                      class_dict[3], scores[3],\n",
    "                      class_dict[4], scores[4],\n",
    "                      class_dict[5], scores[5]))\n",
    "        print('---------------')"
   ]
  },
  {
   "cell_type": "markdown",
   "metadata": {},
   "source": [
    "### 4.3 Strategy 3"
   ]
  },
  {
   "cell_type": "code",
   "execution_count": 150,
   "metadata": {},
   "outputs": [],
   "source": [
    "# instantiate the classifier\n",
    "clf_aug_3 = RandomForestClassifier(n_estimators=100, n_jobs = 5)"
   ]
  },
  {
   "cell_type": "code",
   "execution_count": 152,
   "metadata": {},
   "outputs": [
    {
     "data": {
      "text/plain": [
       "RandomForestClassifier(bootstrap=True, class_weight=None, criterion='gini',\n",
       "            max_depth=None, max_features='auto', max_leaf_nodes=None,\n",
       "            min_impurity_decrease=0.0, min_impurity_split=None,\n",
       "            min_samples_leaf=1, min_samples_split=2,\n",
       "            min_weight_fraction_leaf=0.0, n_estimators=100, n_jobs=5,\n",
       "            oob_score=False, random_state=None, verbose=0,\n",
       "            warm_start=False)"
      ]
     },
     "execution_count": 152,
     "metadata": {},
     "output_type": "execute_result"
    }
   ],
   "source": [
    "# fit the model to the data\n",
    "clf_aug_3.fit(input_images_aug_3,train_labels_aug_3)"
   ]
  },
  {
   "cell_type": "code",
   "execution_count": 153,
   "metadata": {},
   "outputs": [],
   "source": [
    "# make predictions\n",
    "preds_new_3 = clf_aug_3.predict(test_images)"
   ]
  },
  {
   "cell_type": "code",
   "execution_count": 154,
   "metadata": {},
   "outputs": [
    {
     "name": "stdout",
     "output_type": "stream",
     "text": [
      "Accuracy: 0.9702006172839506\n"
     ]
    }
   ],
   "source": [
    "# evaluate the accuracy\n",
    "print(\"Accuracy:\",metrics.accuracy_score(test_labels, preds_new_3))"
   ]
  },
  {
   "cell_type": "code",
   "execution_count": 155,
   "metadata": {},
   "outputs": [
    {
     "data": {
      "text/plain": [
       "array([[24137,     0,     0,     0,     0,     0],\n",
       "       [   16, 11183,     0,     1,     0,   162],\n",
       "       [   50,    30,  1395,    10,    57,    57],\n",
       "       [    1,    42,    10, 13817,    23,   713],\n",
       "       [   15,     0,   170,     1,  2814,     2],\n",
       "       [   17,   327,     4,   223,     0,  9523]])"
      ]
     },
     "execution_count": 155,
     "metadata": {},
     "output_type": "execute_result"
    }
   ],
   "source": [
    "# the confusion matrix\n",
    "metrics.confusion_matrix(test_labels, preds_new_3)"
   ]
  },
  {
   "cell_type": "code",
   "execution_count": 156,
   "metadata": {},
   "outputs": [
    {
     "name": "stdout",
     "output_type": "stream",
     "text": [
      "balance  , water: 0.2676, trees: 0.1264, road: 0.0734, barren_land: 0.1635, building: 0.0332, grassland: 0.3359\n",
      "---------------\n",
      "precision, water: 0.9959, trees: 0.9655, road: 0.8835, barren_land: 0.9833, building: 0.9724, grassland: 0.9107\n",
      "---------------\n",
      "recall   , water: 1.0000, trees: 0.9842, road: 0.8724, barren_land: 0.9460, building: 0.9374, grassland: 0.9434\n",
      "---------------\n",
      "fscore   , water: 0.9980, trees: 0.9748, road: 0.8779, barren_land: 0.9643, building: 0.9545, grassland: 0.9268\n",
      "---------------\n"
     ]
    }
   ],
   "source": [
    "# its precision, recall and fscore in relation to the proportion of each class in the training data\n",
    "\n",
    "bookmark = {0: 'precision', 1: 'recall   ', 2: 'fscore   ', 3: 'support'}\n",
    "class_dict = {0: 'water', 1: 'trees', 2: 'road', 3: 'barren_land', 4: 'building', 5: 'grassland'}\n",
    "train_class_count_aug_3 = Counter(train_labels_aug_3)\n",
    "train_class_balance_aug_3 = {k:round(v/sum(train_class_count_aug_3.values()),4) for k,v in train_class_count_aug_3.items()}\n",
    "\n",
    "print('{}, {}: {:.4f}, {}: {:.4f}, {}: {:.4f}, {}: {:.4f}, {}: {:.4f}, {}: {:.4f}'\\\n",
    "              .format('balance  ',\n",
    "                      class_dict[0], train_class_balance_aug_3[0],\n",
    "                      class_dict[1], train_class_balance_aug_3[1],\n",
    "                      class_dict[2], train_class_balance_aug_3[2],\n",
    "                      class_dict[3], train_class_balance_aug_3[3],\n",
    "                      class_dict[4], train_class_balance_aug_3[4],\n",
    "                      class_dict[5], train_class_balance_aug_3[5]))\n",
    "\n",
    "print('---------------')\n",
    "\n",
    "for i, scores in enumerate(metrics.precision_recall_fscore_support(test_labels, preds_new_3)):\n",
    "    if i < 3:\n",
    "        print('{}, {}: {:.4f}, {}: {:.4f}, {}: {:.4f}, {}: {:.4f}, {}: {:.4f}, {}: {:.4f}'\\\n",
    "              .format(bookmark[i],\n",
    "                      class_dict[0], scores[0],\n",
    "                      class_dict[1], scores[1],\n",
    "                      class_dict[2], scores[2],\n",
    "                      class_dict[3], scores[3],\n",
    "                      class_dict[4], scores[4],\n",
    "                      class_dict[5], scores[5]))\n",
    "        print('---------------')"
   ]
  },
  {
   "cell_type": "markdown",
   "metadata": {},
   "source": [
    "### 4.3 Discussion"
   ]
  },
  {
   "cell_type": "markdown",
   "metadata": {},
   "source": [
    "In resume, we have trained 4 models with different data augmentations with the following accuracy performance:\n",
    "\n",
    "Original Vanilla Model: 0.9664\n",
    "\n",
    "Model of strategy 1   : 0.9700\n",
    "\n",
    "Model of strategy 2   : 0.9695\n",
    "\n",
    "Model of strategy 3   : 0.9702\n",
    "\n",
    "We can see a minor increase in model accuracy after various degrees of data augmentation. From an accuracy's point of view, the data augmented models are generally superior.\n",
    "\n",
    "However, we know that accuracy is not a very holistic metric in evaluating a model's performance. We have noted previously that :\n",
    "\n",
    "1. the original model's performance was skewed towards classes with large sample sizes\n",
    "2. the original model's precision/recall balance was weak for the aforementioned classes: 2 & 5\n",
    "\n",
    "This is when the data augmented models performed quite differently:\n",
    "\n",
    "1. model of strategy 1 performed poorly for class 2 and 5, with class 2's precision (0.9709) being largely superior than its recall (0.7724)\n",
    "2. model of strategy 2 had a similar problem with the precision of class 2 (0.8234) being largely inferior to its recall (0.9099)\n",
    "3. model of strategy 3's class-wise precision-recall balance is fairly well upheld\n",
    "\n",
    "\n",
    "Overall, the original model not only lacked in accuracy, it also had class-wise performance inbalance (measured in fscore). The data augmented models performed better in that regard, but model 1 and 2 both had precision-recall balance issues for class 2, whereas model 3 achieved a relatively good level of balance, both in terms of class-wise performance and class-wise precision-recall balance."
   ]
  },
  {
   "cell_type": "markdown",
   "metadata": {},
   "source": [
    "## 5. Performance comparison with CNN using pretrained InceptionV3"
   ]
  },
  {
   "cell_type": "markdown",
   "metadata": {},
   "source": [
    "### 5.1 The CNN Architecture"
   ]
  },
  {
   "cell_type": "markdown",
   "metadata": {},
   "source": [
    "We applied the transfer learning technique to avoid retrainning the model from scratch.\n",
    "We used the pretrained InceptionV3 model provided by the PyTorch framework for the following reasons:\n",
    "    1. Its relative light weight for training in comparison with other popular architectures such as Resnet or VGG\n",
    "    2. Its availability in torch.vision (there are other light architectures such as mobilenet but they are not readily available in torch.vision)\n",
    "    3. Its rebust performance"
   ]
  },
  {
   "cell_type": "markdown",
   "metadata": {},
   "source": [
    "We trained multiple models using this architecture:\n",
    "\n",
    "Shared variables:\n",
    "\n",
    "Optimisation: SGD\n",
    "\n",
    "Loss Function: Cross Entropy\n",
    "\n",
    "Batchsize: 32\n",
    "\n",
    "Group 1, 8 training epochs:\n",
    "    1. fully connected layers unfrozen, decaying learning rate 1e-3, step size = 7, gamma = 0.1\n",
    "    2. layers after 'Conv2d_4a_3x3' unfrozen, decaying learning rate 1e-3, step size = 7, gamma = 0.1\n",
    "Group 2, 5 training epochs:\n",
    "    1. fully connected layers unfrozen & decaying learning rate 1e-5, step size = 3, gamma = 0.2\n",
    "    2. layers after 'Conv2d_4a_3x3' unfrozen, decaying learning rate 1e-5, step size = 3, gamma = 0.2"
   ]
  },
  {
   "cell_type": "markdown",
   "metadata": {},
   "source": [
    "Group 2 performed better on the validation set with considerably less training data:\n",
    "\n",
    "Best alidation accuracy:\n",
    "\n",
    "    Group 1:\n",
    "        1. 0.8789\n",
    "        2. 0.8827\n",
    "    Group 2:\n",
    "        1. 0.9043\n",
    "        2. 0.9156   "
   ]
  },
  {
   "cell_type": "markdown",
   "metadata": {},
   "source": [
    "We finally kept the 2nd model from group 2.\n",
    "\n",
    "We chose not to further tune the hyper parameter or run any more epochs since the Random Forest algorithm provides a much superior performance in terms of accuracy."
   ]
  },
  {
   "cell_type": "markdown",
   "metadata": {},
   "source": [
    "#### Due to training being interrupted half way, the model not the testing data was not succesfully saved, please find below a proof of the best performing model (group 2 model 2)'s validation performing during training"
   ]
  },
  {
   "cell_type": "code",
   "execution_count": 10,
   "metadata": {},
   "outputs": [
    {
     "data": {
      "image/png": "[encoded data removed]",
      "text/plain": [
       "<IPython.core.display.Image object>"
      ]
     },
     "execution_count": 10,
     "metadata": {},
     "output_type": "execute_result"
    }
   ],
   "source": [
    "from IPython.display import Image\n",
    "Image(filename=\"Screenshot.png\")"
   ]
  },
  {
   "cell_type": "markdown",
   "metadata": {},
   "source": [
    "## 6. Conclusions"
   ]
  },
  {
   "cell_type": "markdown",
   "metadata": {},
   "source": [
    "#### In conclusion, model from strategy 3 is the most desirable model\n",
    "\n",
    "Model description:\n",
    "\n",
    "Algorithm: Random Forest (SkLearn implementation)\n",
    "\n",
    "Number of estimators: 100\n",
    "\n",
    "Data Augmentation: \n",
    "3 fold data augmentation of class 2 (road):\n",
    "1. random_rotation_90\n",
    "2. random_rotation_75\n",
    "3. horizontal_flip\n",
    "\n",
    "\n",
    "2 fold data augmentation of class 5 (grassland):\n",
    "1. random_rotation_75\n",
    "2. horizontal_flip\n",
    "\n",
    "-----------------------------------------------\n",
    "\n",
    "The model performed well with an __accuray of 0.9702__ with minimum class-wise performance inbalance.\n",
    "\n",
    "Class-wise precision, recall and fscore:\n",
    "\n",
    "__precision__, _water_: 0.9959, _trees_: 0.9655, _road_: 0.8835, _barren_land_: 0.9833, _building_: 0.9724, _grassland_: 0.9107\n",
    "\n",
    "__recall__   , _water_: 1.0000, _trees_: 0.9842, _road_: 0.8724, _barren_land_: 0.9460, _building_: 0.9374, _grassland_: 0.9434\n",
    "\n",
    "__fscore__   , _water_: 0.9980, _trees_: 0.9748, _road_: 0.8779, _barren_land_: 0.9643, _building_: 0.9545, _grassland_: 0.9268\n"
   ]
  },
  {
   "cell_type": "markdown",
   "metadata": {},
   "source": [
    "## 7. Appendix - all functions and classes contained in seperate .py files"
   ]
  },
  {
   "cell_type": "markdown",
   "metadata": {},
   "source": [
    "### 7.1 image_augmentation.py\n",
    "function used in the code above to perform image data augmentation"
   ]
  },
  {
   "cell_type": "code",
   "execution_count": 11,
   "metadata": {},
   "outputs": [],
   "source": [
    "import random\n",
    "from scipy import ndarray\n",
    "import skimage as sk\n",
    "from skimage import util\n",
    "from math import floor\n",
    "import cv2\n",
    "from tqdm import tqdm\n",
    "import numpy as np\n",
    "\n",
    "\n",
    "def random_rotation_25(image_array: ndarray):\n",
    "    # pick a random degree of rotation between 25 on the left and 25 degrees on the right\n",
    "    random_degree = random.uniform(-25, 25)\n",
    "    return(sk.transform.rotate(image_array, random_degree))\n",
    "\n",
    "def random_rotation_75(image_array: ndarray):\n",
    "    # pick a random degree of rotation between 26 on the right and 75 degrees on the right\n",
    "    random_degree = random.uniform(26, 75)\n",
    "    return(sk.transform.rotate(image_array, random_degree))\n",
    "\n",
    "def random_rotation_90(image_array: ndarray):\n",
    "    # randomly rotate image of 90 degrees either to the left or to the right\n",
    "    random_degree = random.choice([-90, 90])\n",
    "    return(sk.transform.rotate(image_array, random_degree))\n",
    "\n",
    "def random_noise(image_array: ndarray):\n",
    "    # add random noise to the image\n",
    "    return(sk.util.random_noise(image_array))\n",
    "\n",
    "def horizontal_flip(image_array: ndarray):\n",
    "    # horizontal flip\n",
    "    return(image_array[:, ::-1])\n",
    "\n",
    "def vertical_flip(image_array: ndarray):\n",
    "    # vertical flip\n",
    "    return(image_array[::-1, :])\n",
    "\n",
    "def transpose(image_array: ndarray):\n",
    "\t# transpose the image\n",
    "\treturn(image_array[::-1, ::-1])\n",
    "\n",
    "def zoom(image_array: ndarray):\n",
    "\t# zoom in on the image, maximum zoom: 1.4\n",
    "\tdim = image_array.shape[0]\n",
    "\tzoom_factor = random.uniform(1.01, 1.4)\n",
    "\tzoomed_image = sk.transform.rescale(image_array, zoom_factor)\n",
    "\tcrop_border = floor((zoomed_image.shape[0] - dim)/2)\n",
    "\tcropped_image = zoomed_image[crop_border : crop_border + dim, crop_border : crop_border + dim]\n",
    "\treturn(cropped_image)\n",
    "\n",
    "def image_augmentation(image_dirs, fold):\n",
    "\t\"\"\"\n",
    "\tthis function will augment selected images and return it as a vector\n",
    "\t-----\n",
    "\timage_dirs: list of dirs to the images to transform\n",
    "\tfold: the number of times the data is augmented, max = 8\n",
    "\t\"\"\"\n",
    "\n",
    "\t# check if fold limits are respected\n",
    "\tif fold > 8 or fold < 1:\n",
    "\t\treturn('fold has to be between 1 and 8')\n",
    "\n",
    "\t# convert it to an integer in case where a float was received\n",
    "\tfold = int(fold)\n",
    "\n",
    "\t# establish all the functions to use for augmentation\n",
    "\tfunction_list = [random_rotation_25, random_rotation_75, random_rotation_90, random_noise, horizontal_flip, vertical_flip, transpose, zoom]\n",
    "\n",
    "\t# randomly choose which augmentations to use:\n",
    "\taugmentations_to_use = random.sample(function_list, fold)\n",
    "\n",
    "\t# print augmentation functions to use\n",
    "\tprint('the functions to be used for augmentation are: ')\n",
    "\tfor i, fun in enumerate(augmentations_to_use):\n",
    "\t\tprint(i+1, str(fun).split(' ')[1])\n",
    "\n",
    "\t# create a list to store results\n",
    "\taugmented = []\n",
    "\n",
    "\t# now we augment:\n",
    "\tfor img_dir in tqdm(image_dirs):\n",
    "\t\t# first we read the images\n",
    "\t\timg = cv2.imread(img_dir)\n",
    "\t\tb, g, r = cv2.split(img)\n",
    "\t\trgb_img = cv2.merge([r, g, b])\n",
    "\n",
    "\t\t# augment the image\n",
    "\t\tfor aug in augmentations_to_use:\n",
    "\t\t\taug_img = np.array(aug(rgb_img))\n",
    "\t\t\taug_img.shape = (1, 3*28*28)\n",
    "\t\t\taugmented.append(aug_img)\n",
    "\n",
    "\t# convert to a nparray\n",
    "\taugmented = np.concatenate(augmented, axis = 0)\n",
    "\n",
    "\treturn(augmented)"
   ]
  },
  {
   "cell_type": "markdown",
   "metadata": {},
   "source": [
    "### 7.2 custom_dset_alt.py \n",
    "contains custom dataset class as well as a function to split our image dataset into train, validation and test subsets"
   ]
  },
  {
   "cell_type": "code",
   "execution_count": null,
   "metadata": {},
   "outputs": [],
   "source": [
    "import os\n",
    "import torch\n",
    "import pandas as pd\n",
    "from skimage import io, transform\n",
    "import numpy as np\n",
    "import matplotlib.pyplot as plt\n",
    "from torch.utils.data import Dataset, DataLoader\n",
    "import torch.nn as nn\n",
    "from torchvision import models, transforms, utils\n",
    "from PIL import Image\n",
    "from tqdm import tqdm\n",
    "from torch.optim import Adam\n",
    "import math\n",
    "\n",
    "\n",
    "def train_val_test_split(data_dir, train_split, val_split, test_split):\n",
    "    \"\"\"\n",
    "    Split data set into training, validation, and test sets.\n",
    "    data_dir : path to images folder\n",
    "    train_split : proportion of the data to be used for training\n",
    "    val_split : proportion of the data to be used for validation\n",
    "    test_split : proportion of the data to be used for testing\n",
    "    \"\"\"\n",
    "\n",
    "    # getting the sub folders and getting rid off irrelevant readings\n",
    "    sub_paths = [os.path.join(data_dir, file_dir) for file_dir in os.listdir(data_dir)]\n",
    "    sub_paths = [path for path in sub_paths if os.path.isdir(path)]\n",
    "\n",
    "    # creating a dict to convert string classes into integers that can be converted to tensors\n",
    "    class_dict = {'water':0, 'trees':1, 'road':2, 'barren_land': 3, 'building': 4, 'grassland':5}\n",
    "\n",
    "    # creating a dict for all files stored in the different class specific folders\n",
    "    # the dict contains key-value pairs of the form: full_file_dir: class\n",
    "    all_files_dict = {}\n",
    "    for path in sub_paths:\n",
    "        all_files_dict = {**all_files_dict, **{os.path.join(path, file_name):class_dict[os.path.split(path)[1]] for file_name in os.listdir(path)}}\n",
    "\n",
    "    # now sample according to the proportions\n",
    "    # Size of data set\n",
    "    N = len(all_files_dict)\n",
    "    \n",
    "    # Size of train set\n",
    "    train_size = math.floor(train_split * N)\n",
    "    \n",
    "    # Size of validation set\n",
    "    val_size = math.floor(val_split * N)\n",
    "    \n",
    "    # List of all data indices\n",
    "    indices = list(range(N))\n",
    "    \n",
    "    # Random selection of indices for train set\n",
    "    train_ids = np.random.choice(indices, size=train_size, replace=False)\n",
    "    train_ids = list(train_ids)\n",
    "    \n",
    "    # Deletion of indices used for train set\n",
    "    indices = list(set(indices) - set(train_ids))\n",
    "    \n",
    "    # Random selection of indices for validation set\n",
    "    val_ids = np.random.choice(indices, size=val_size, replace=False)\n",
    "    val_ids = list(val_ids)\n",
    "    \n",
    "    # Selecting remaining indices for test set\n",
    "    test_ids = list(set(indices) - set(val_ids))\n",
    "\n",
    "    # creating subsets in the forms of dictionaries\n",
    "    # these dicts contain key-value pairs of the form 'file_dir : class'\n",
    "    all_files = sorted(list(all_files_dict.keys()))\n",
    "    train_files = {all_files[i]: all_files_dict[all_files[i]] for i in train_ids}\n",
    "    val_files = {all_files[i]: all_files_dict[all_files[i]] for i in val_ids}\n",
    "    test_files = {all_files[i]: all_files_dict[all_files[i]] for i in test_ids}\n",
    "\n",
    "    return(train_files, val_files, test_files)\n",
    "\n",
    "\n",
    "\n",
    "\n",
    "\n",
    "\n",
    "\n",
    "\n",
    "class custom_dset(Dataset):\n",
    "    def __init__(self, data_files, transform):\n",
    "        \"\"\"\n",
    "        data_files : one of the outputs of the train_val_test_split function\n",
    "                     a dictionary containing keys of image directories and values of their respective classes\n",
    "        transform : either 'train' or 'val'\n",
    "                    indicates whether the dataset is for training or validation purposees\n",
    "        \"\"\"\n",
    "\n",
    "        # setting the all_file_dict to a class variable\n",
    "        self.dir_to_class_dict = data_files\n",
    "\n",
    "        # setting all file directories to a class variable\n",
    "        self.all_files = sorted(list(data_files.keys()))\n",
    "\n",
    "        # creating a list of all classes in the order of the all_files class variable\n",
    "        self.labels = [data_files[key] for key in self.all_files]\n",
    "\n",
    "        # setting the len variable\n",
    "        self.len = len(self.dir_to_class_dict)\n",
    "        \n",
    "        # setting the image transform class method\n",
    "        normalize = transforms.Normalize(mean = [0.485, 0.456, 0.406], std = [0.229, 0.224, 0.225])\n",
    "        if transform == 'train':\n",
    "            transform = transforms.Compose([\n",
    "                transforms.Resize(299),\n",
    "                transforms.CenterCrop(299),\n",
    "                transforms.ColorJitter(hue = .05, saturation = .05),\n",
    "                transforms.RandomHorizontalFlip(),\n",
    "                transforms.RandomVerticalFlip(),\n",
    "                transforms.RandomRotation(90, resample = Image.BILINEAR),\n",
    "                transforms.ToTensor(),\n",
    "                normalize,\n",
    "                ])\n",
    "        elif transform == 'val':\n",
    "            transform = transforms.Compose([\n",
    "                transforms.Resize(299),\n",
    "                transforms.ToTensor(),\n",
    "                normalize,\n",
    "                ])\n",
    "        self.transform = transform\n",
    "\n",
    "    # the __len__ method\n",
    "    def __len__(self):\n",
    "        return(len(self.all_files))\n",
    "\n",
    "    # the __getitem__ method\n",
    "    def __getitem__(self, idx):\n",
    "        file_name = self.all_files[idx]\n",
    "        image = Image.open(file_name)\n",
    "        # the images are in .png format, which comes with an extra alpha channel\n",
    "        # since we're using a pretrained model,the data has to be converted to 3 channels\n",
    "        image = image.convert('RGB')\n",
    "\n",
    "        if self.transform:\n",
    "            image = self.transform(image)\n",
    "\n",
    "        label = self.dir_to_class_dict[file_name]\n",
    "        label_t = torch.from_numpy(np.array(label))\n",
    "        \n",
    "        return (image, label_t)"
   ]
  },
  {
   "cell_type": "markdown",
   "metadata": {},
   "source": [
    "### 7.3 pretrain_inceptionv3_alt.py\n",
    "class for the pretrained torch.vision inception_v3 model"
   ]
  },
  {
   "cell_type": "code",
   "execution_count": null,
   "metadata": {},
   "outputs": [],
   "source": [
    "import os\n",
    "import torch\n",
    "import pandas as pd\n",
    "from skimage import io, transform\n",
    "import numpy as np\n",
    "import matplotlib.pyplot as plt\n",
    "from torch.utils.data import Dataset, DataLoader\n",
    "import torch.nn as nn\n",
    "from torchvision import models, transforms, utils\n",
    "from PIL import Image\n",
    "from tqdm import tqdm\n",
    "from torch.optim import Adam\n",
    "import math\n",
    "\n",
    "\n",
    "#----------------------------------------------------\n",
    "# the pretrained inception v3 model class\n",
    "#----------------------------------------------------\n",
    "\n",
    "class pretrained_inception_v3(nn.Module):\n",
    "\n",
    "\tdef __init__(self, num_class, use_cuda):\n",
    "\t\tsuper(pretrained_inception_v3, self).__init__()\n",
    "\t\t\"\"\"\n",
    "\t\tnum_class : the total number of classes to predict\n",
    "\t\tuse_cude : if we're using the GPU to compute and optimise\n",
    "\t\t\"\"\"\n",
    "\n",
    "\t\t# setting variables for if we're using the GPU, the number of output classes as well as the tensor dtype\n",
    "\t\tself.use_cuda = use_cuda\n",
    "\t\tself.num_class = num_class\n",
    "\t\tself.dtype = torch.cuda.FloatTensor if self.use_cuda else torch.FloatTensor\n",
    "\n",
    "\t\t# we're using the pretrained inceptionv3 model provided by torchvision\n",
    "\t\tmodel = models.inception_v3(pretrained=True)\n",
    "\t\tself.model = model.cuda() if self.use_cuda else model\n",
    "\n",
    "\t\t# freeze all layer weights\n",
    "\t\tfor param in self.model.parameters():\n",
    "\t\t\tparam.requires_grad = False\n",
    "\n",
    "\t\t# modifying the classifier layer\n",
    "\t\tnum_features = self.model.fc.in_features\n",
    "\t\tself.model.fc = nn.Linear(num_features, num_class)\n",
    "\n",
    "\t\t# we choose to unfreeze the weights of parameters following(but not including) the Conv2d_4a_3x3 layer\n",
    "\t\t# act as a testing mechanism\n",
    "\t\tct = []\n",
    "\t\t# loop through through the layers\n",
    "\t\tfor name, child in self.model.named_children():\n",
    "\t\t\tif \"Conv2d_4a_3x3\" in ct:\n",
    "\t\t\t\tfor params in child.parameters():\n",
    "\t\t\t\t\tparams.requires_grad = True\n",
    "\t\t\t\n",
    "\n",
    "\tdef forward(self, inputs):\n",
    "\t\treturn(self.model(inputs))"
   ]
  },
  {
   "cell_type": "markdown",
   "metadata": {},
   "source": [
    "### 7.4 train_alt.py\n",
    "function for training the CNN"
   ]
  },
  {
   "cell_type": "code",
   "execution_count": null,
   "metadata": {},
   "outputs": [],
   "source": [
    "import os\n",
    "import torch\n",
    "import pandas as pd\n",
    "from skimage import io, transform\n",
    "import numpy as np\n",
    "import matplotlib.pyplot as plt\n",
    "from torch.utils.data import Dataset, DataLoader\n",
    "import torch.nn as nn\n",
    "from torchvision import models, transforms, utils\n",
    "from PIL import Image\n",
    "from tqdm import tqdm\n",
    "from torch.optim import Adam, SGD, lr_scheduler\n",
    "import math\n",
    "from torch.utils.data import WeightedRandomSampler\n",
    "from collections import Counter\n",
    "import time\n",
    "from pretrained_inceptionv3_alt import pretrained_inception_v3\n",
    "from custom_dset_new_alt import custom_dset, train_val_test_split\n",
    "import pickle\n",
    "\n",
    "\n",
    "def train(data_dir, save_dir, num_class, num_epoch = 20,\\\n",
    "\tbs = 4, lr = 1e-3, use_cuda = False, num_workers = 1,\\\n",
    "\tname = 'model', train_prop = 0.7, val_prop = 0.2,\n",
    "\tstep_size = 4, gamma = 0.1):\n",
    "\t\"\"\"\n",
    "\tparams:\n",
    "\tdata_dir: where the image folder is stored\n",
    "\tsave_dir: where the model should be saved after/during training\n",
    "\tnumber_class: the number of classes to predict\n",
    "\tnum_epoch (20 by default): the number of epochs to train\n",
    "\tbs (4 by default): the batch size\n",
    "\tlr (0.001 by default): the starting learning rate\n",
    "\tuse_cude(false by default): boolean, wether to use the GPU\n",
    "\tnum_workers (1 by dfault): the number of workers to use for the computation,\n",
    "\t\t\t\tnote that if use_cude = True, it should be set to equal 1\n",
    "\tname ('model' by default): name of the model when it is saved\n",
    "\ttrain_prop (0.7 by default): the propotion of the data used for trainning\n",
    "\tval_prop (0.2 by default): the propotion of the data used for validation\n",
    "\tstep_size (4 by default): the frequency for learning rate decay\n",
    "\tgamma (0.1 by default): the factor by which the learning rate decays\n",
    "\t\"\"\"\n",
    "\n",
    "\t# checkpoint beginning time\n",
    "\tbegin = time.time()\n",
    "\n",
    "\t# instantiate the vgg model\n",
    "\tmodel = pretrained_inception_v3(num_class, use_cuda)\n",
    "\n",
    "\t# we check if the save_dir exists, if not, we create it\n",
    "\tif not os.path.isdir(save_dir):\n",
    "\t\tos.mkdir(save_dir)\n",
    "\n",
    "\t# define the model path\n",
    "\tmodelpath = os.path.join(save_dir, '{}.pt'.format(name))\n",
    "\n",
    "\t# in the case of paused training, do we wish to continue training?\n",
    "\tif use_cuda:\n",
    "\t\tmodel = model.cuda()\n",
    "\n",
    "\t# setting up the loss and accuracy variables\n",
    "\tloss_record = {'train': np.zeros(num_epoch), 'val': np.zeros(num_epoch)}\n",
    "\tacc_record = {'train': np.zeros(num_epoch), 'val': np.zeros(num_epoch)}\n",
    "\n",
    "\t# setting up the loss function and optimisation method\n",
    "\t# we use the cross entropy for the multiclass classification task\n",
    "\tloss_fun = torch.nn.CrossEntropyLoss(reduction = 'sum')\n",
    "\t# we use stochastic gradient descend for optimisation\n",
    "\toptim = SGD(model.parameters(), lr = lr, momentum = 0.9)\n",
    "\t# we apply learning rate decay\n",
    "\texp_lr_scheduler = lr_scheduler.StepLR(optim, step_size = step_size, gamma = gamma)\n",
    "\n",
    "\t# split the dataset into train, val and test\n",
    "\ttest_prop = 1 - train_prop - val_prop\n",
    "\ttrain_data, val_data, test_data = train_val_test_split(data_dir, train_prop, val_prop, test_prop)\n",
    "\n",
    "\t# saving the test data. We save the test data first in case we want to terminate the training early\n",
    "\twith open('{}.pickle'.format(os.path.join(save_dir, 'test_data')), 'wb') as handle:\n",
    "\t\tpickle.dump(test_data, handle, protocol = pickle.HIGHEST_PROTOCOL)\n",
    "\n",
    "\t# set up the datasets\n",
    "\tdset = {'train': custom_dset(data_files = train_data, transform = 'train'),\n",
    "\t\t\t'val': custom_dset(data_files = val_data, transform = 'val')}\n",
    "\n",
    "\t# setting up a random weighted sampler to ensure the classes are balanced in the training phase\n",
    "\t# calculating weights for the dset indices according to their respective class\n",
    "\ttrain_class_sample_count = Counter(dset['train'].labels)\n",
    "\tsorted_train_class_sample_count = [train_class_sample_count[key] for key in sorted(train_class_sample_count.keys())]\n",
    "\tweights = 100000./torch.tensor(sorted_train_class_sample_count, dtype = torch.float)\n",
    "\tsamples_weights = [weights[label] for label in dset['train'].labels]\n",
    "\t# the sampler\n",
    "\tsampler = WeightedRandomSampler(weights=samples_weights,\n",
    "\t\t\t\t\t\t\t\t\tnum_samples=len(samples_weights),\n",
    "\t\t\t\t\t\t\t\t\treplacement=True)\n",
    "\t# the dataloaders, we create 2 dataloaders for the train and val phase seperately\n",
    "\tdataloaders = {'train': DataLoader(dset['train'], batch_size = bs, sampler = sampler, num_workers = num_workers, pin_memory = False),\n",
    "\t\t\t\t\t'val': DataLoader(dset['val'], batch_size = bs, shuffle = True, num_workers = num_workers, pin_memory = False)}\n",
    "\n",
    "\t# create variables for storing best performing weights during training\n",
    "\tbest_model_wts = model.state_dict()\n",
    "\tbest_acc = 0.0\n",
    "\n",
    "\t# iterate through the training epochs\n",
    "\tfor epoch in range(num_epoch):\n",
    "\t\tprint('Epoch {}/{}'.format(epoch, num_epoch - 1))\n",
    "\t\tprint('-' * 10)\n",
    "\n",
    "\t\t# recording the running performance each epoch\n",
    "\n",
    "\t\t# each epoch will have a training and validation phase\n",
    "\t\tfor phase in ['train', 'val']:\n",
    "\n",
    "\t\t\t# recording the dataset size\n",
    "\t\t\trunning_loss = 0.0\n",
    "\t\t\trunning_corrects = 0\n",
    "\t\t\tsize = 0\n",
    "\n",
    "\t\t\tif phase == 'train':\n",
    "\t\t\t\texp_lr_scheduler.step()\n",
    "\t\t\t\t# setting model to trainning mode\n",
    "\t\t\t\tmodel.train()\n",
    "\t\t\telse:\n",
    "\t\t\t\t# setting model to validation mode\n",
    "\t\t\t\tmodel.eval()\n",
    "\n",
    "\t\t\t# now we iterate over the data\n",
    "\t\t\tfor inputs, labels in tqdm(dataloaders[phase]):\n",
    "\t\t\t\t# counting how many images is contained in this batch\n",
    "\t\t\t\tbatch_count = labels.size(0)\n",
    "\t\t\t\t# if GPU is used, cudafy inputs\n",
    "\t\t\t\tif use_cuda:\n",
    "\t\t\t\t\tinputs = inputs.cuda()\n",
    "\t\t\t\t\tlabels = labels.cuda()\n",
    "\n",
    "\t\t\t\t# zero the parameter gradients\n",
    "\t\t\t\toptim.zero_grad()\n",
    "\n",
    "\t\t\t\t# feed inputs into the model\n",
    "\t\t\t\toutput = model(inputs)\n",
    "\n",
    "\n",
    "\t\t\t\t# calculate the loss and prediction performance statistics\n",
    "\t\t\t\tif type(output) == tuple:\n",
    "\t\t\t\t\toutput, _ = output\n",
    "\t\t\t\t_, preds = torch.max(output.data, 1)\n",
    "\t\t\t\tloss = loss_fun(output, labels)\n",
    "\t\t\t\trunning_loss += loss\n",
    "\t\t\t\trunning_corrects += preds.eq(labels.view_as(preds)).sum()\n",
    "\n",
    "\t\t\t\t# backprop and optimise if in training stage\n",
    "\t\t\t\tif phase == 'train':\n",
    "\t\t\t\t\tloss.backward()\n",
    "\t\t\t\t\toptim.step()\n",
    "\t\t\t\t\n",
    "\t\t\t\t# update dataset size\n",
    "\t\t\t\tsize += batch_count\n",
    "\n",
    "\t\t\tepoch_loss = running_loss / size\n",
    "\t\t\tepoch_acc = running_corrects.item() / size\n",
    "\n",
    "\t\t\t# recording the historical performance\n",
    "\t\t\tloss_record[phase][epoch] = epoch_loss\n",
    "\t\t\tacc_record[phase][epoch] = epoch_acc\n",
    "\n",
    "\t\t\tprint('{} loss: {:.4F} Acc: {:.4F}'.format(phase, epoch_loss, epoch_acc))\n",
    "\n",
    "\t\t\t# deep copy and save the model if best performance\n",
    "\t\t\tif phase == 'val' and epoch_acc > best_acc:\n",
    "\t\t\t\tbest_acc = epoch_acc\n",
    "\t\t\t\tbest_model_wts = model.state_dict()\n",
    "\t\t\t\ttorch.save(model.state_dict(), os.path.join(save_dir, '{}.pt'.format(name)))\n",
    "\n",
    "\t# saving the record performances\n",
    "\twith open('{}.pickle'.format(os.path.join(save_dir, name + '_loss_performances')), 'wb') as handle:\n",
    "\t\tpickle.dump(loss_record, handle, protocol = pickle.HIGHEST_PROTOCOL)\n",
    "\twith open('{}.pickle'.format(os.path.join(save_dir, name + '_acc_performances')), 'wb') as handle:\n",
    "\t\tpickle.dump(acc_record, handle, protocol = pickle.HIGHEST_PROTOCOL)\n",
    "\n",
    "\t# calculating time elapsed\n",
    "\ttime_elapsed = time.time() - begin\n",
    "\tprint('Training complete in {:.0F}m {:0F}s'.format(time_elapsed // 60, time_elapsed % 60))\n",
    "\tprint('Best validation acc: {:4F}'.format(best_acc))\n",
    "\n",
    "\t# load the best model weights\n",
    "\tmodel.load_state_dict(best_model_wts)\n",
    "\treturn(loss_record, acc_record, model, test_data)"
   ]
  },
  {
   "cell_type": "markdown",
   "metadata": {},
   "source": [
    "### 7.5 test_alt.py\n",
    "function for testing model performance"
   ]
  },
  {
   "cell_type": "code",
   "execution_count": null,
   "metadata": {},
   "outputs": [],
   "source": [
    "import os\n",
    "import torch\n",
    "import pandas as pd\n",
    "from skimage import io, transform\n",
    "import numpy as np\n",
    "import matplotlib.pyplot as plt\n",
    "from torch.utils.data import Dataset, DataLoader\n",
    "import torch.nn as nn\n",
    "from torchvision import models, transforms, utils\n",
    "from PIL import Image\n",
    "from tqdm import tqdm\n",
    "from torch.optim import Adam, SGD, lr_scheduler\n",
    "import math\n",
    "from torch.utils.data import WeightedRandomSampler\n",
    "from collections import Counter\n",
    "import time\n",
    "from pretrained_inceptionv3_alt import pretrained_inception_v3\n",
    "from custom_dset_new_alt import custom_dset, train_val_test_split\n",
    "import pickle\n",
    "\n",
    "\n",
    "def test(model, test_files, bs):\n",
    "\t\"\"\"\n",
    "\tmodel : the model to be tested\n",
    "\ttest_files : the directories to the test images, output of the train_val_test_split function\n",
    "\tbs : batch size\n",
    "\n",
    "\t\"\"\"\n",
    "\n",
    "\t# set model to eval mode\n",
    "\tmodel.eval()\n",
    "\n",
    "\t# cudafy model if specified\n",
    "\tif use_cuda:\n",
    "\t\tmodel = model.cuda()\n",
    "\n",
    "\t# recording the running performance and the dataset size\n",
    "\trunning_loss = 0.0\n",
    "\trunning_corrects = 0\n",
    "\tsize = 0\n",
    "\n",
    "\t# set up the loss function\n",
    "\tloss_fun = torch.nn.CrossEntropyLoss(reduction = 'sum')\n",
    "\n",
    "\t# set up the datasets\n",
    "\tdset = custom_dset(data_files = test_files, transform = 'val')\n",
    "\n",
    "\t# set up the dataloader\n",
    "\tdataloader = DataLoader(dset, batch_size = bs, shuffle = True, num_workers = 1, pin_memory = False)\n",
    "\n",
    "\t# now iterate over the images to make predictions\n",
    "\tfor inputs, labels in tqdm(dataloader):\n",
    "\t\t# cudafy inputs and labels if specified\n",
    "\t\tif use_cuda:\n",
    "\t\t\tinputs = inputs.cuda()\n",
    "\t\t\tlabels = labels.cuda()\n",
    "\t\t# counting how many images is contained in this batch\n",
    "\t\tbatch_count = labels.size(0)\n",
    "\t\t# Forward pass\n",
    "\t\toutput = model(inputs)\n",
    "\n",
    "\t\t# calculate the loss and prediction performance statistics\n",
    "\t\tif type(output) == tuple:\n",
    "\t\t\toutput, _ = output\n",
    "\t\t\t_, preds = torch.max(output.data, 1)\n",
    "\t\t\tloss = loss_fun(output, labels)\n",
    "\t\t\trunning_loss += loss\n",
    "\t\t\trunning_corrects += preds.eq(labels.view_as(preds)).sum()\n",
    "\n",
    "\t\n",
    "\t\t# update dataset size\n",
    "\t\tsize += batch_count\n",
    "\n",
    "\t# compute the model's performance\n",
    "\tmodel_loss = running_loss / size\n",
    "\tmodel_acc = running_corrects / size\n",
    "\n",
    "\treturn(model_loss, model_acc)"
   ]
  },
  {
   "cell_type": "markdown",
   "metadata": {},
   "source": [
    "### 7.6 execute_train_alt.py\n",
    "python script used for training the CNN in linux terminal with GPU"
   ]
  },
  {
   "cell_type": "code",
   "execution_count": null,
   "metadata": {},
   "outputs": [],
   "source": [
    "from train_alt import train\n",
    "from custom_dset_new_alt import train_val_test_split, custom_dset\n",
    "from pretrained_inceptionv3_alt import pretrained_inception_v3\n",
    "\n",
    "\n",
    "# setting up variables\n",
    "data_dir = '../../data/images/'\n",
    "save_dir = '../../data/CNN_model_landtype_alt/'\n",
    "num_class = 6\n",
    "bs = 32\n",
    "name = 'model_alt'\n",
    "num_epoch = 8\n",
    "lr = 1e-5\n",
    "step_size = 4\n",
    "gamma = 0.2\n",
    "\n",
    "\n",
    "# run\n",
    "loss_record, acc_record, model, test_data = train(data_dir = data_dir, save_dir = save_dir, num_class = 6, \n",
    "\t\t\t\t\t\t\t\t\t\t\t\tnum_epoch = num_epoch, bs = bs, lr = lr, step_size = step_size, \n",
    "\t\t\t\t\t\t\t\t\t\t\t\tgamma = gamma, use_cuda = True)"
   ]
  }
 ],
 "metadata": {
  "kernelspec": {
   "display_name": "Python 3",
   "language": "python",
   "name": "python3"
  },
  "language_info": {
   "codemirror_mode": {
    "name": "ipython",
    "version": 3
   },
   "file_extension": ".py",
   "mimetype": "text/x-python",
   "name": "python",
   "nbconvert_exporter": "python",
   "pygments_lexer": "ipython3",
   "version": "3.6.4"
  }
 },
 "nbformat": 4,
 "nbformat_minor": 2
}
